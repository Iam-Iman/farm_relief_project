{
 "cells": [
  {
   "cell_type": "markdown",
   "id": "5b50bec6",
   "metadata": {},
   "source": [
    "# Farm Relief Data Dictionary"
   ]
  },
  {
   "cell_type": "code",
   "execution_count": 1,
   "id": "eca5a6fe",
   "metadata": {},
   "outputs": [],
   "source": [
    "import pandas as pd"
   ]
  },
  {
   "cell_type": "code",
   "execution_count": 2,
   "id": "43d5e925",
   "metadata": {},
   "outputs": [
    {
     "name": "stdout",
     "output_type": "stream",
     "text": [
      "Enter definition Age RangeThe upper and lower ages, grouped as '18-25', '26-35', '35-49' and '50 and above'. \n",
      "Enter definition AgeAn individual's age between 18 and above 50.\n",
      "Enter definition GenderThe social constructed identity of men and women. Can be 'Male' or 'Female'.\n",
      "Enter definition OccupationThe type of profession. \n",
      "Enter definition Marital status The legally defined marital state.\n",
      "Enter definition IncomeThe money received on a regular basis, in Nigerian Naira(₦).\n",
      "Enter definition Monthly Household IncomeThe combined income per household on a monthly basis, expressed in subgroups. Currency in Nigerian Naira(₦). \n",
      "Enter definition LocationThe place of residence of the participant within Nigeria.\n",
      "Enter definition Device TypeThe type of mobile device(s) the participant uses.\n",
      "Enter definition Delivery MethodThe mode of delivery of farm produce preferred.\n",
      "Enter definition FarmerAn individual who owns a farm or sells produce. \n",
      "Enter definition Farm ProduceCrops and other agricultural products(including livestock, eggs .etc) sold by farmers.\n",
      "Enter definition Online PlatformAn online platform where consumers and farmers can trade.\n",
      "Enter definition Alternative Platform KnowledgeKnowledge of other competitive online farmer's platform.\n",
      "Enter definition Digital Platform FeaturesFeatures that the user would like to see on a website or application.\n",
      "                                   Type Length Description\n",
      "Age Range                        object     59            \n",
      "Age                               int64     59            \n",
      "Gender                           object     59            \n",
      "Occupation                       object     59            \n",
      "Marital status                   object     59            \n",
      "Income                          float64     59            \n",
      "Monthly Household Income         object     59            \n",
      "Location                         object     59            \n",
      "Device Type                      object     59            \n",
      "Delivery Method                  object     59            \n",
      "Farmer                           object     59            \n",
      "Farm Produce                     object     59            \n",
      "Online Platform                  object     59            \n",
      "Alternative Platform Knowledge   object     59            \n",
      "Digital Platform Features        object     59            \n"
     ]
    }
   ],
   "source": [
    "class create_data_dictionary:\n",
    "\n",
    "    def __init__(self):\n",
    "        '''\n",
    "        This class is use to create data dictionary functions \n",
    "        '''\n",
    "        return None\n",
    "\n",
    "    def make_my_data_dictionary(self, dataFrame):\n",
    "        '''\n",
    "        Function to build initial data dictionary excluding definitions of features\n",
    "        '''\n",
    "        col_ = dataFrame.columns\n",
    "        df_DataDict = {}\n",
    "\n",
    "        for col in col_:\n",
    "                df_DataDict[col] = {\n",
    "                               'Type': str(df.dtypes[col]),\n",
    "                               'Length': len(df[col]),\n",
    "                               #'Null_Count': sum(df[col].isna()),\n",
    "                               #'Size(Memory)': df.memory_usage()[col],\n",
    "                               'Description': str('')\n",
    "                                }\n",
    "\n",
    "        df_DD = pd.DataFrame(df_DataDict)\n",
    "\n",
    "        return df_DD\n",
    "\n",
    "    def define_data_meaning(self, df_data_dictionary):\n",
    "        '''\n",
    "        Function used to input the definitions and to transpose into a usable dictionary\n",
    "        '''\n",
    "        col_ = df_data_dictionary.columns\n",
    "        d = 'Definition'\n",
    "\n",
    "        for col in col_:\n",
    "            df_data_dictionary[col][d] = input('Enter definition {}'.format(col))\n",
    "\n",
    "        df_data_dictionary = df_data_dictionary.transpose()\n",
    "\n",
    "        return df_data_dictionary\n",
    "\n",
    "    def update_dd_definition(self, df_data_dictionary, attribute):\n",
    "        '''\n",
    "        Function used to make updates on the already existing data dictionary\n",
    "        '''\n",
    "        try:\n",
    "            df_dd = df_data_dictionary.transpose()\n",
    "            df_dd[attribute]['Definition'] = input('Enter definition {}'.format(attribute))\n",
    "            df_dd = df_dd.transpose()\n",
    "            return df_dd\n",
    "        except:\n",
    "            print('Sorry, there was an error. Check attribute name and try again')\n",
    "\n",
    "\n",
    "df = pd.read_csv('farm_relief_clean.csv')\n",
    "dd = create_data_dictionary()\n",
    "df_dd = dd.make_my_data_dictionary(df)\n",
    "df_dd = dd.define_data_meaning(df_dd)\n",
    "\n",
    "print(df_dd)"
   ]
  },
  {
   "cell_type": "markdown",
   "id": "80194e5e",
   "metadata": {},
   "source": [
    "- Saving Dictionary to csv\n"
   ]
  },
  {
   "cell_type": "code",
   "execution_count": 5,
   "id": "a59cdf4d",
   "metadata": {},
   "outputs": [],
   "source": [
    "df_dd.to_csv('data_dictionary.csv', index=False)"
   ]
  },
  {
   "cell_type": "code",
   "execution_count": 4,
   "id": "3b866224",
   "metadata": {},
   "outputs": [],
   "source": [
    "# to update \n",
    "# df_dd = dd.update_dd_definition(df_dd, 'Name of one of your data dictionary attributes')"
   ]
  }
 ],
 "metadata": {
  "kernelspec": {
   "display_name": "Python 3 (ipykernel)",
   "language": "python",
   "name": "python3"
  },
  "language_info": {
   "codemirror_mode": {
    "name": "ipython",
    "version": 3
   },
   "file_extension": ".py",
   "mimetype": "text/x-python",
   "name": "python",
   "nbconvert_exporter": "python",
   "pygments_lexer": "ipython3",
   "version": "3.10.4"
  }
 },
 "nbformat": 4,
 "nbformat_minor": 5
}
