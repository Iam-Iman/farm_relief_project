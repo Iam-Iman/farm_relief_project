{
 "cells": [
  {
   "cell_type": "markdown",
   "id": "d5790e2c",
   "metadata": {},
   "source": [
    "<font size=\"+3\"><strong>Farm Relief Customer Segmentation</strong></font>"
   ]
  },
  {
   "cell_type": "markdown",
   "id": "8afe12ba",
   "metadata": {},
   "source": [
    "In this project we are going to focus on farmer produce sellers and buyers in Nigeria(and neighbouring countries). We will examine some demographic characteristics of the group, such as age, income bracket, occupation etc. Then we will select five features, and create a clustering model to divide consumers into subgroups. Finally, we will create some visualizations to highlight the differences between these subgroups.\n",
    "\n",
    "In this project, we're going to work with data from the [Farm Relief](https://forms.gle/nH7jb1RyWptCrzSV8) google form. The form tracks the demographic, financial and opinion information about individuals in Nigeria. The survey was conducted a month ago and it is still ongoing."
   ]
  },
  {
   "cell_type": "markdown",
   "id": "251e2f9c",
   "metadata": {},
   "source": [
    "# Objective\n",
    "\n",
    "The aim of this project is to use unsupervised learning, specifically clustering to do customer segmentation.\n",
    "\n",
    "We will:\n",
    "\n",
    "    Compare characteristics across subgroups using a side-by-side bar chart.\n",
    "    Build a k-means clustering model.\n",
    "    Conduct feature selection for clustering.\n",
    "    Reduce high-dimensional data using principal component analysis (PCA).\n",
    "    Design, build and deploy a Dash web application."
   ]
  },
  {
   "cell_type": "markdown",
   "id": "c79089aa",
   "metadata": {},
   "source": [
    "- Libraries"
   ]
  },
  {
   "cell_type": "code",
   "execution_count": 1,
   "id": "c8f0d440",
   "metadata": {},
   "outputs": [],
   "source": [
    "import pandas as pd\n",
    "\n",
    "import matplotlib.pyplot as plt\n",
    "import seaborn as sns\n",
    "import plotly.express as px\n",
    "\n",
    "from scipy.stats.mstats import trimmed_var\n",
    "from sklearn.cluster import KMeans\n",
    "from sklearn.decomposition import PCA\n",
    "from sklearn.metrics import silhouette_score\n",
    "from sklearn.pipeline import make_pipeline\n",
    "from sklearn.preprocessing import StandardScaler\n",
    "\n",
    "from dash import Input, Output, dcc, html\n",
    "from jupyter_dash import JupyterDash\n",
    "JupyterDash.infer_jupyter_proxy_config()"
   ]
  },
  {
   "cell_type": "markdown",
   "id": "50ed3a7e",
   "metadata": {},
   "source": [
    "# Data Preparation"
   ]
  },
  {
   "cell_type": "markdown",
   "id": "a1963c7e",
   "metadata": {},
   "source": [
    "## Importing The File"
   ]
  },
  {
   "cell_type": "code",
   "execution_count": 2,
   "id": "46a58753",
   "metadata": {},
   "outputs": [
    {
     "name": "stdout",
     "output_type": "stream",
     "text": [
      "df shape: (49, 18)\n"
     ]
    },
    {
     "data": {
      "text/html": [
       "<div>\n",
       "<style scoped>\n",
       "    .dataframe tbody tr th:only-of-type {\n",
       "        vertical-align: middle;\n",
       "    }\n",
       "\n",
       "    .dataframe tbody tr th {\n",
       "        vertical-align: top;\n",
       "    }\n",
       "\n",
       "    .dataframe thead th {\n",
       "        text-align: right;\n",
       "    }\n",
       "</style>\n",
       "<table border=\"1\" class=\"dataframe\">\n",
       "  <thead>\n",
       "    <tr style=\"text-align: right;\">\n",
       "      <th></th>\n",
       "      <th>Timestamp</th>\n",
       "      <th>Age range</th>\n",
       "      <th>Gender</th>\n",
       "      <th>Occupation</th>\n",
       "      <th>Marital status</th>\n",
       "      <th>Monthly Household income</th>\n",
       "      <th>Location e.g Lagos, Nigeria</th>\n",
       "      <th>Device type</th>\n",
       "      <th>Most preferred delivery method</th>\n",
       "      <th>Are you a farmer?</th>\n",
       "      <th>If yes, What farming system do you have?</th>\n",
       "      <th>What farm produce do you buy or sell? (You can give a list)</th>\n",
       "      <th>Would you like an online platform where you can buy or sell farm products and not feel cheated?</th>\n",
       "      <th>Do you know of any platform that provides you with the service mentioned above?</th>\n",
       "      <th>If yes, please give a name</th>\n",
       "      <th>What features would you be looking forward to on such a digital platform?</th>\n",
       "      <th>What do you think is the daily average price you pay for the commodities you buy?</th>\n",
       "      <th>On what social media did you come across this survey?</th>\n",
       "    </tr>\n",
       "  </thead>\n",
       "  <tbody>\n",
       "    <tr>\n",
       "      <th>0</th>\n",
       "      <td>2023/02/14 6:43:49 pm CET</td>\n",
       "      <td>18 - 25</td>\n",
       "      <td>Female</td>\n",
       "      <td>Education</td>\n",
       "      <td>Single</td>\n",
       "      <td>#50,000 - #100,000</td>\n",
       "      <td>Modakeke, Nigeria</td>\n",
       "      <td>Android</td>\n",
       "      <td>NaN</td>\n",
       "      <td>No</td>\n",
       "      <td>NaN</td>\n",
       "      <td>Garri\\nRice\\nPepper\\nOnion\\nVegetables</td>\n",
       "      <td>Yes</td>\n",
       "      <td>No</td>\n",
       "      <td>NaN</td>\n",
       "      <td>NaN</td>\n",
       "      <td>NaN</td>\n",
       "      <td>WhatsApp</td>\n",
       "    </tr>\n",
       "    <tr>\n",
       "      <th>1</th>\n",
       "      <td>2023/02/14 6:47:45 pm CET</td>\n",
       "      <td>50 and above</td>\n",
       "      <td>Female</td>\n",
       "      <td>Student</td>\n",
       "      <td>Married</td>\n",
       "      <td>#100,000 - #200,000</td>\n",
       "      <td>Osun, Nigeria</td>\n",
       "      <td>Android</td>\n",
       "      <td>Home delivery</td>\n",
       "      <td>No</td>\n",
       "      <td>NaN</td>\n",
       "      <td>Pepper, Vegetables, Plantain, Charcoal, Yam fl...</td>\n",
       "      <td>Yes</td>\n",
       "      <td>No</td>\n",
       "      <td>NaN</td>\n",
       "      <td>Prompt response and quality products at cheape...</td>\n",
       "      <td>#10,000</td>\n",
       "      <td>WhatsApp</td>\n",
       "    </tr>\n",
       "    <tr>\n",
       "      <th>2</th>\n",
       "      <td>2023/02/14 6:56:23 pm CET</td>\n",
       "      <td>50 and above</td>\n",
       "      <td>Male</td>\n",
       "      <td>Farming</td>\n",
       "      <td>Married</td>\n",
       "      <td>#100,000 - #200,000</td>\n",
       "      <td>Osun, Nigeria</td>\n",
       "      <td>Android</td>\n",
       "      <td>NaN</td>\n",
       "      <td>Yes</td>\n",
       "      <td>Small Scale</td>\n",
       "      <td>Cocoa</td>\n",
       "      <td>Yes</td>\n",
       "      <td>No</td>\n",
       "      <td>NaN</td>\n",
       "      <td>Much profit</td>\n",
       "      <td>NaN</td>\n",
       "      <td>WhatsApp</td>\n",
       "    </tr>\n",
       "    <tr>\n",
       "      <th>3</th>\n",
       "      <td>2023/02/14 6:57:24 pm CET</td>\n",
       "      <td>18 - 25</td>\n",
       "      <td>Male</td>\n",
       "      <td>Student</td>\n",
       "      <td>Single</td>\n",
       "      <td>&lt; #50,000</td>\n",
       "      <td>Ekiti State</td>\n",
       "      <td>Android</td>\n",
       "      <td>NaN</td>\n",
       "      <td>No</td>\n",
       "      <td>NaN</td>\n",
       "      <td>NaN</td>\n",
       "      <td>Yes</td>\n",
       "      <td>Maybe</td>\n",
       "      <td>NaN</td>\n",
       "      <td>NaN</td>\n",
       "      <td>NaN</td>\n",
       "      <td>WhatsApp</td>\n",
       "    </tr>\n",
       "    <tr>\n",
       "      <th>4</th>\n",
       "      <td>2023/02/14 6:59:31 pm CET</td>\n",
       "      <td>26 - 35</td>\n",
       "      <td>Male</td>\n",
       "      <td>Freelance copywriter</td>\n",
       "      <td>Single</td>\n",
       "      <td>#200,000 - #500,000</td>\n",
       "      <td>Ibadan, Nigeria</td>\n",
       "      <td>Android</td>\n",
       "      <td>Home delivery service.</td>\n",
       "      <td>No</td>\n",
       "      <td>NaN</td>\n",
       "      <td>NaN</td>\n",
       "      <td>Yes</td>\n",
       "      <td>No</td>\n",
       "      <td>NaN</td>\n",
       "      <td>Transparent pricing, convenience of use, and p...</td>\n",
       "      <td>Around 15k-25k on foodstuff monthly.</td>\n",
       "      <td>WhatsApp</td>\n",
       "    </tr>\n",
       "  </tbody>\n",
       "</table>\n",
       "</div>"
      ],
      "text/plain": [
       "                   Timestamp     Age range  Gender             Occupation  \\\n",
       "0  2023/02/14 6:43:49 pm CET       18 - 25  Female              Education   \n",
       "1  2023/02/14 6:47:45 pm CET  50 and above  Female                Student   \n",
       "2  2023/02/14 6:56:23 pm CET  50 and above    Male                Farming   \n",
       "3  2023/02/14 6:57:24 pm CET       18 - 25    Male               Student    \n",
       "4  2023/02/14 6:59:31 pm CET       26 - 35    Male  Freelance copywriter    \n",
       "\n",
       "  Marital status  Monthly Household income Location e.g Lagos, Nigeria  \\\n",
       "0          Single       #50,000 - #100,000           Modakeke, Nigeria   \n",
       "1         Married      #100,000 - #200,000               Osun, Nigeria   \n",
       "2         Married      #100,000 - #200,000              Osun, Nigeria    \n",
       "3          Single                < #50,000                Ekiti State    \n",
       "4          Single      #200,000 - #500,000            Ibadan, Nigeria    \n",
       "\n",
       "  Device type Most preferred delivery method Are you a farmer?  \\\n",
       "0     Android                            NaN                No   \n",
       "1     Android                  Home delivery                No   \n",
       "2     Android                            NaN               Yes   \n",
       "3     Android                            NaN                No   \n",
       "4     Android         Home delivery service.                No   \n",
       "\n",
       "  If yes, What farming system do you have?  \\\n",
       "0                                      NaN   \n",
       "1                                      NaN   \n",
       "2                              Small Scale   \n",
       "3                                      NaN   \n",
       "4                                      NaN   \n",
       "\n",
       "  What farm produce do you buy or sell? (You can give a list)  \\\n",
       "0             Garri\\nRice\\nPepper\\nOnion\\nVegetables            \n",
       "1  Pepper, Vegetables, Plantain, Charcoal, Yam fl...            \n",
       "2                                              Cocoa            \n",
       "3                                                NaN            \n",
       "4                                                NaN            \n",
       "\n",
       "  Would you like an online platform where you can buy or sell farm products and not feel cheated?  \\\n",
       "0                                                Yes                                                \n",
       "1                                                Yes                                                \n",
       "2                                                Yes                                                \n",
       "3                                                Yes                                                \n",
       "4                                                Yes                                                \n",
       "\n",
       "  Do you know of any platform that provides you with the service mentioned above?  \\\n",
       "0                                                 No                                \n",
       "1                                                 No                                \n",
       "2                                                 No                                \n",
       "3                                              Maybe                                \n",
       "4                                                 No                                \n",
       "\n",
       "  If yes, please give a name  \\\n",
       "0                        NaN   \n",
       "1                        NaN   \n",
       "2                        NaN   \n",
       "3                        NaN   \n",
       "4                        NaN   \n",
       "\n",
       "  What features would you be looking forward to on such a digital platform?  \\\n",
       "0                                                NaN                          \n",
       "1  Prompt response and quality products at cheape...                          \n",
       "2                                        Much profit                          \n",
       "3                                                NaN                          \n",
       "4  Transparent pricing, convenience of use, and p...                          \n",
       "\n",
       "  What do you think is the daily average price you pay for the commodities you buy?   \\\n",
       "0                                                NaN                                   \n",
       "1                                            #10,000                                   \n",
       "2                                                NaN                                   \n",
       "3                                                NaN                                   \n",
       "4               Around 15k-25k on foodstuff monthly.                                   \n",
       "\n",
       "  On what social media did you come across this survey?  \n",
       "0                                           WhatsApp     \n",
       "1                                           WhatsApp     \n",
       "2                                           WhatsApp     \n",
       "3                                           WhatsApp     \n",
       "4                                           WhatsApp     "
      ]
     },
     "execution_count": 2,
     "metadata": {},
     "output_type": "execute_result"
    }
   ],
   "source": [
    "df = pd.read_csv('FARM RELIEF-1.csv')\n",
    "print(\"df shape:\", df.shape)\n",
    "df.head()"
   ]
  },
  {
   "cell_type": "markdown",
   "id": "22c113f4",
   "metadata": {},
   "source": [
    "## Data Cleaning"
   ]
  },
  {
   "cell_type": "markdown",
   "id": "138629d6",
   "metadata": {},
   "source": [
    "- change headers"
   ]
  },
  {
   "cell_type": "code",
   "execution_count": 3,
   "id": "ef2a5503",
   "metadata": {},
   "outputs": [
    {
     "data": {
      "text/html": [
       "<div>\n",
       "<style scoped>\n",
       "    .dataframe tbody tr th:only-of-type {\n",
       "        vertical-align: middle;\n",
       "    }\n",
       "\n",
       "    .dataframe tbody tr th {\n",
       "        vertical-align: top;\n",
       "    }\n",
       "\n",
       "    .dataframe thead th {\n",
       "        text-align: right;\n",
       "    }\n",
       "</style>\n",
       "<table border=\"1\" class=\"dataframe\">\n",
       "  <thead>\n",
       "    <tr style=\"text-align: right;\">\n",
       "      <th></th>\n",
       "      <th>Timestamp</th>\n",
       "      <th>Age range</th>\n",
       "      <th>Gender</th>\n",
       "      <th>Occupation</th>\n",
       "      <th>Marital status</th>\n",
       "      <th>Monthly Household income</th>\n",
       "      <th>Location e.g Lagos, Nigeria</th>\n",
       "      <th>Device type</th>\n",
       "      <th>Most preferred delivery method</th>\n",
       "      <th>Are you a farmer?</th>\n",
       "      <th>If yes, What farming system do you have?</th>\n",
       "      <th>What farm produce do you buy or sell? (You can give a list)</th>\n",
       "      <th>Would you like an online platform where you can buy or sell farm products and not feel cheated?</th>\n",
       "      <th>Do you know of any platform that provides you with the service mentioned above?</th>\n",
       "      <th>If yes, please give a name</th>\n",
       "      <th>What features would you be looking forward to on such a digital platform?</th>\n",
       "      <th>What do you think is the daily average price you pay for the commodities you buy?</th>\n",
       "      <th>On what social media did you come across this survey?</th>\n",
       "    </tr>\n",
       "  </thead>\n",
       "  <tbody>\n",
       "    <tr>\n",
       "      <th>0</th>\n",
       "      <td>2023/02/14 6:43:49 pm CET</td>\n",
       "      <td>18 - 25</td>\n",
       "      <td>Female</td>\n",
       "      <td>Education</td>\n",
       "      <td>Single</td>\n",
       "      <td>#50,000 - #100,000</td>\n",
       "      <td>Modakeke, Nigeria</td>\n",
       "      <td>Android</td>\n",
       "      <td>NaN</td>\n",
       "      <td>No</td>\n",
       "      <td>NaN</td>\n",
       "      <td>Garri\\nRice\\nPepper\\nOnion\\nVegetables</td>\n",
       "      <td>Yes</td>\n",
       "      <td>No</td>\n",
       "      <td>NaN</td>\n",
       "      <td>NaN</td>\n",
       "      <td>NaN</td>\n",
       "      <td>WhatsApp</td>\n",
       "    </tr>\n",
       "  </tbody>\n",
       "</table>\n",
       "</div>"
      ],
      "text/plain": [
       "                   Timestamp Age range  Gender Occupation Marital status   \\\n",
       "0  2023/02/14 6:43:49 pm CET   18 - 25  Female  Education          Single   \n",
       "\n",
       "  Monthly Household income Location e.g Lagos, Nigeria Device type  \\\n",
       "0       #50,000 - #100,000           Modakeke, Nigeria     Android   \n",
       "\n",
       "  Most preferred delivery method Are you a farmer?  \\\n",
       "0                            NaN                No   \n",
       "\n",
       "  If yes, What farming system do you have?  \\\n",
       "0                                      NaN   \n",
       "\n",
       "  What farm produce do you buy or sell? (You can give a list)  \\\n",
       "0             Garri\\nRice\\nPepper\\nOnion\\nVegetables            \n",
       "\n",
       "  Would you like an online platform where you can buy or sell farm products and not feel cheated?  \\\n",
       "0                                                Yes                                                \n",
       "\n",
       "  Do you know of any platform that provides you with the service mentioned above?  \\\n",
       "0                                                 No                                \n",
       "\n",
       "  If yes, please give a name  \\\n",
       "0                        NaN   \n",
       "\n",
       "  What features would you be looking forward to on such a digital platform?  \\\n",
       "0                                                NaN                          \n",
       "\n",
       "  What do you think is the daily average price you pay for the commodities you buy?   \\\n",
       "0                                                NaN                                   \n",
       "\n",
       "  On what social media did you come across this survey?  \n",
       "0                                           WhatsApp     "
      ]
     },
     "execution_count": 3,
     "metadata": {},
     "output_type": "execute_result"
    }
   ],
   "source": [
    "df.head(1)"
   ]
  },
  {
   "cell_type": "code",
   "execution_count": 4,
   "id": "3ca6d0a2",
   "metadata": {},
   "outputs": [],
   "source": [
    "df.rename(columns={\n",
    "    'Age range':'Age Range',\n",
    "    'Marital status':'Marital Status',\n",
    "    'Monthly Household income':'Monthly Household Income',\n",
    "    'Location e.g Lagos, Nigeria':'Location',\n",
    "    'Device type':'Device Type',\n",
    "    'Most preferred delivery method':'Delivery Method',\n",
    "    'Are you a farmer?':'Farmer',\n",
    "    'If yes, What farming system do you have?':'Farming System',\n",
    "    'What farm produce do you buy or sell? (You can give a list)':'Farm Produce',\n",
    "    'Would you like an online platform where you can buy or sell farm products and not feel cheated?':'Online Platform',\n",
    "    'Do you know of any platform that provides you with the service mentioned above?':'Alternative Platform Knowledge',\n",
    "    'If yes, please give a name':'Platform Name',\n",
    "    'What features would you be looking forward to on such a digital platform?':'Digital Platform Features',\n",
    "    'What do you think is the daily average price you pay for the commodities you buy? ':'Daily Commodities Price',\n",
    "    'On what social media did you come across this survey?':'Survey Accessed From'    \n",
    "}, inplace=True)"
   ]
  },
  {
   "cell_type": "markdown",
   "id": "e7aa8910",
   "metadata": {},
   "source": [
    "- remove # from `Monthly Household Income` values"
   ]
  },
  {
   "cell_type": "code",
   "execution_count": 5,
   "id": "0623e750",
   "metadata": {},
   "outputs": [],
   "source": [
    "df['Monthly Household Income'] = (df['Monthly Household Income']\n",
    "                   .str.replace('#','', regex=False)\n",
    "                   #.str.replace(',', '')\n",
    "                   #.astype(float)\n",
    "                   )"
   ]
  },
  {
   "cell_type": "markdown",
   "id": "471dd752",
   "metadata": {},
   "source": [
    "- remove # from `Daily Commodities Price` values"
   ]
  },
  {
   "cell_type": "code",
   "execution_count": 6,
   "id": "bf0cdd76",
   "metadata": {},
   "outputs": [],
   "source": [
    "df['Daily Commodities Price'] = (df['Daily Commodities Price']\n",
    "                   .str.replace('#','', regex=False)\n",
    "                   #.str.replace(',', '')\n",
    "                   #.astype(float)\n",
    "                   )"
   ]
  },
  {
   "cell_type": "markdown",
   "id": "8573127b",
   "metadata": {},
   "source": [
    "- replace \\n with space in the `Farm Produce`"
   ]
  },
  {
   "cell_type": "code",
   "execution_count": 7,
   "id": "e9356537",
   "metadata": {},
   "outputs": [],
   "source": [
    "df['Farm Produce'] = (df['Farm Produce']\n",
    "                   .str.replace('\\n',' ', regex=False)\n",
    "                   )"
   ]
  },
  {
   "cell_type": "markdown",
   "id": "85539459",
   "metadata": {},
   "source": [
    "- missing values"
   ]
  },
  {
   "cell_type": "code",
   "execution_count": 9,
   "id": "0a7bb66c",
   "metadata": {},
   "outputs": [
    {
     "data": {
      "text/plain": [
       "Timestamp                         12\n",
       "Age Range                          0\n",
       "Gender                             0\n",
       "Occupation                         7\n",
       "Marital status                     9\n",
       "Monthly Household Income           9\n",
       "Location                           8\n",
       "Device Type                        8\n",
       "Delivery Method                   27\n",
       "Farmer                             0\n",
       "Farming System                    31\n",
       "Farm Produce                      14\n",
       "Online Platform                    4\n",
       "Alternative Platform Knowledge     9\n",
       "Platform Name                     42\n",
       "Digital Platform Features         27\n",
       "Daily Commodities Price           29\n",
       "Survey Accessed From              11\n",
       "dtype: int64"
      ]
     },
     "execution_count": 9,
     "metadata": {},
     "output_type": "execute_result"
    }
   ],
   "source": [
    "df.isnull().sum()"
   ]
  },
  {
   "cell_type": "code",
   "execution_count": 11,
   "id": "82d7f57b",
   "metadata": {},
   "outputs": [
    {
     "data": {
      "text/plain": [
       "Timestamp                         0.244898\n",
       "Age Range                         0.000000\n",
       "Gender                            0.000000\n",
       "Occupation                        0.142857\n",
       "Marital status                    0.183673\n",
       "Monthly Household Income          0.183673\n",
       "Location                          0.163265\n",
       "Device Type                       0.163265\n",
       "Delivery Method                   0.551020\n",
       "Farmer                            0.000000\n",
       "Farming System                    0.632653\n",
       "Farm Produce                      0.285714\n",
       "Online Platform                   0.081633\n",
       "Alternative Platform Knowledge    0.183673\n",
       "Platform Name                     0.857143\n",
       "Digital Platform Features         0.551020\n",
       "Daily Commodities Price           0.591837\n",
       "Survey Accessed From              0.224490\n",
       "dtype: float64"
      ]
     },
     "execution_count": 11,
     "metadata": {},
     "output_type": "execute_result"
    }
   ],
   "source": [
    "df.isnull().sum()/len(df)"
   ]
  },
  {
   "cell_type": "markdown",
   "id": "833aaa82",
   "metadata": {},
   "source": [
    " **Delivery Method**, **Farming System**, **Platform Name**, **Digital Platform Features** and **Daily Commodities Price** columns have a lot of missing values."
   ]
  },
  {
   "cell_type": "markdown",
   "id": "c43a7a08",
   "metadata": {},
   "source": [
    "- information"
   ]
  },
  {
   "cell_type": "code",
   "execution_count": 10,
   "id": "654dc3be",
   "metadata": {},
   "outputs": [
    {
     "name": "stdout",
     "output_type": "stream",
     "text": [
      "<class 'pandas.core.frame.DataFrame'>\n",
      "RangeIndex: 49 entries, 0 to 48\n",
      "Data columns (total 18 columns):\n",
      " #   Column                          Non-Null Count  Dtype \n",
      "---  ------                          --------------  ----- \n",
      " 0   Timestamp                       37 non-null     object\n",
      " 1   Age Range                       49 non-null     object\n",
      " 2   Gender                          49 non-null     object\n",
      " 3   Occupation                      42 non-null     object\n",
      " 4   Marital status                  40 non-null     object\n",
      " 5   Monthly Household Income        40 non-null     object\n",
      " 6   Location                        41 non-null     object\n",
      " 7   Device Type                     41 non-null     object\n",
      " 8   Delivery Method                 22 non-null     object\n",
      " 9   Farmer                          49 non-null     object\n",
      " 10  Farming System                  18 non-null     object\n",
      " 11  Farm Produce                    35 non-null     object\n",
      " 12  Online Platform                 45 non-null     object\n",
      " 13  Alternative Platform Knowledge  40 non-null     object\n",
      " 14  Platform Name                   7 non-null      object\n",
      " 15  Digital Platform Features       22 non-null     object\n",
      " 16  Daily Commodities Price         20 non-null     object\n",
      " 17  Survey Accessed From            38 non-null     object\n",
      "dtypes: object(18)\n",
      "memory usage: 7.0+ KB\n"
     ]
    }
   ],
   "source": [
    "df.info()"
   ]
  },
  {
   "cell_type": "code",
   "execution_count": null,
   "id": "3536962b",
   "metadata": {},
   "outputs": [],
   "source": []
  }
 ],
 "metadata": {
  "kernelspec": {
   "display_name": "Python 3 (ipykernel)",
   "language": "python",
   "name": "python3"
  },
  "language_info": {
   "codemirror_mode": {
    "name": "ipython",
    "version": 3
   },
   "file_extension": ".py",
   "mimetype": "text/x-python",
   "name": "python",
   "nbconvert_exporter": "python",
   "pygments_lexer": "ipython3",
   "version": "3.10.4"
  }
 },
 "nbformat": 4,
 "nbformat_minor": 5
}
